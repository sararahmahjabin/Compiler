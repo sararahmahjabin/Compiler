{
  "cells": [
    {
      "cell_type": "code",
      "execution_count": null,
      "id": "bcd8588e",
      "metadata": {
        "id": "bcd8588e"
      },
      "outputs": [],
      "source": [
        "import sys\n",
        "sys.setrecursionlimit(60)"
      ]
    },
    {
      "cell_type": "code",
      "execution_count": null,
      "id": "2b3e2802",
      "metadata": {
        "id": "2b3e2802"
      },
      "outputs": [],
      "source": [
        "def first(string):\n",
        "    \n",
        "    first_ = set()\n",
        "    if string in non_terminals:\n",
        "        alternatives = productions_dict[string]\n",
        "\n",
        "        for alternative in alternatives:\n",
        "            first_2 = first(alternative)\n",
        "            first_ = first_ |first_2\n",
        "\n",
        "    elif string in terminals:\n",
        "        first_ = {string}\n",
        "\n",
        "    elif string=='' or string=='@':\n",
        "        first_ = {'@'}\n",
        "\n",
        "    else:\n",
        "        first_2 = first(string[0])\n",
        "        if '@' in first_2:\n",
        "            i = 1\n",
        "            while '@' in first_2:              \n",
        "\n",
        "                first_ = first_ | (first_2 - {'@'})                \n",
        "                if string[i:] in terminals:\n",
        "                    first_ = first_ | {string[i:]}\n",
        "                    break\n",
        "                elif string[i:] == '':\n",
        "                    first_ = first_ | {'@'}\n",
        "                    break\n",
        "                first_2 = first(string[i:])\n",
        "                first_ = first_ | first_2 - {'@'}\n",
        "                i += 1\n",
        "        else:\n",
        "            first_ = first_ | first_2\n",
        "\n",
        "\n",
        "    return  first_"
      ]
    },
    {
      "cell_type": "code",
      "execution_count": null,
      "id": "3de9cb47",
      "metadata": {
        "id": "3de9cb47"
      },
      "outputs": [],
      "source": [
        "def follow(nT):\n",
        "    \n",
        "    follow_ = set()\n",
        "    \n",
        "    prods = productions_dict.items()\n",
        "    if nT==starting_symbol:\n",
        "        follow_ = follow_ | {'$'}\n",
        "    for nt,rhs in prods:\n",
        "  \n",
        "        for alt in rhs:\n",
        "            for char in alt:\n",
        "                if char==nT:\n",
        "                    following_str = alt[alt.index(char) + 1:]\n",
        "                    if following_str=='':\n",
        "                        if nt==nT:\n",
        "                            continue\n",
        "                        else:\n",
        "                            follow_ = follow_ | follow(nt)\n",
        "                    else:\n",
        "                        follow_2 = first(following_str)\n",
        "                        if '@' in follow_2:\n",
        "                            follow_ = follow_ | follow_2-{'@'}\n",
        "                            follow_ = follow_ | follow(nt)\n",
        "                        else:\n",
        "                            follow_ = follow_ | follow_2\n",
        "    return follow_\n"
      ]
    },
    {
      "cell_type": "code",
      "execution_count": null,
      "id": "223883ac",
      "metadata": {
        "id": "223883ac",
        "outputId": "5ff2df32-2866-4686-bef0-279886ff6923"
      },
      "outputs": [
        {
          "name": "stdout",
          "output_type": "stream",
          "text": [
            "Enter no. of terminals: 5\n"
          ]
        }
      ],
      "source": [
        "no_of_terminals=int(input(\"Enter no. of terminals: \"))\n",
        "\n",
        "\n",
        "terminals = []"
      ]
    },
    {
      "cell_type": "code",
      "execution_count": null,
      "id": "f73e6e27",
      "metadata": {
        "id": "f73e6e27",
        "outputId": "a91fa43f-d854-4d24-b201-635e782b5b24"
      },
      "outputs": [
        {
          "name": "stdout",
          "output_type": "stream",
          "text": [
            "Enter the terminals :\n",
            "a\n",
            "b\n",
            "c\n",
            "d\n",
            "e\n"
          ]
        }
      ],
      "source": [
        "print(\"Enter the terminals :\")\n",
        "for _ in range(no_of_terminals):\n",
        "    terminals.append(input())\n",
        "    "
      ]
    },
    {
      "cell_type": "code",
      "execution_count": null,
      "id": "83b3aff2",
      "metadata": {
        "id": "83b3aff2",
        "outputId": "53e788c4-83d5-49fb-9005-3ee4d44f53e2"
      },
      "outputs": [
        {
          "name": "stdout",
          "output_type": "stream",
          "text": [
            "Enter no. of non terminals: 4\n"
          ]
        }
      ],
      "source": [
        "no_of_non_terminals=int(input(\"Enter no. of non terminals: \"))\n",
        "\n",
        "non_terminals = []"
      ]
    },
    {
      "cell_type": "code",
      "execution_count": null,
      "id": "58312de8",
      "metadata": {
        "id": "58312de8",
        "outputId": "fba940a7-6d96-4d35-b81f-8652cb35df6e"
      },
      "outputs": [
        {
          "name": "stdout",
          "output_type": "stream",
          "text": [
            "Enter the non terminals :\n",
            "X\n",
            "A\n",
            "B\n",
            "C\n"
          ]
        }
      ],
      "source": [
        "print(\"Enter the non terminals :\")\n",
        "for _ in range(no_of_non_terminals):\n",
        "    non_terminals.append(input())"
      ]
    },
    {
      "cell_type": "code",
      "execution_count": null,
      "id": "785409ec",
      "metadata": {
        "id": "785409ec",
        "outputId": "ee0bc689-d48d-4687-9d57-a14ee43bb9ed"
      },
      "outputs": [
        {
          "name": "stdout",
          "output_type": "stream",
          "text": [
            "Enter the starting symbol: X\n"
          ]
        }
      ],
      "source": [
        "starting_symbol = input(\"Enter the starting symbol: \")"
      ]
    },
    {
      "cell_type": "code",
      "execution_count": null,
      "id": "ead13694",
      "metadata": {
        "id": "ead13694",
        "outputId": "b54f5fca-7782-42bb-945c-69ea20324089"
      },
      "outputs": [
        {
          "name": "stdout",
          "output_type": "stream",
          "text": [
            "Enter no of productions: 4\n"
          ]
        }
      ],
      "source": [
        "no_of_productions = int(input(\"Enter no of productions: \"))\n",
        "\n",
        "productions = []"
      ]
    },
    {
      "cell_type": "code",
      "execution_count": null,
      "id": "cdc8b21a",
      "metadata": {
        "id": "cdc8b21a",
        "outputId": "6b9d5a99-a9c8-4e2c-883d-20d74423cc95"
      },
      "outputs": [
        {
          "name": "stdout",
          "output_type": "stream",
          "text": [
            "Enter the productions:\n",
            "X->ABC\n",
            "A->a/b/@\n",
            "B->c/d/@\n",
            "C->e/@\n"
          ]
        }
      ],
      "source": [
        "print(\"Enter the productions:\")\n",
        "for _ in range(no_of_productions):\n",
        "    productions.append(input())"
      ]
    },
    {
      "cell_type": "code",
      "execution_count": null,
      "id": "cb3359d7",
      "metadata": {
        "id": "cb3359d7"
      },
      "outputs": [],
      "source": [
        "productions_dict = {}\n",
        "\n",
        "for nT in non_terminals:\n",
        "    productions_dict[nT] = []"
      ]
    },
    {
      "cell_type": "code",
      "execution_count": null,
      "id": "2f38d4b1",
      "metadata": {
        "id": "2f38d4b1"
      },
      "outputs": [],
      "source": [
        "for production in productions:\n",
        "    nonterm_to_prod = production.split(\"->\")\n",
        "    alternatives = nonterm_to_prod[1].split(\"/\")\n",
        "    for alternative in alternatives:\n",
        "        productions_dict[nonterm_to_prod[0]].append(alternative)"
      ]
    },
    {
      "cell_type": "code",
      "execution_count": null,
      "id": "a65e0424",
      "metadata": {
        "id": "a65e0424",
        "outputId": "90ac9b72-9c9b-4a37-8d13-885b7a91d4d9"
      },
      "outputs": [
        {
          "name": "stdout",
          "output_type": "stream",
          "text": [
            "   Non Terminals           First               Follow       \n",
            "   Non Terminals           First               Follow       \n",
            "   Non Terminals           First               Follow       \n",
            "   Non Terminals           First               Follow       \n",
            "         X          {'b', 'd', '@', 'c', 'e', 'a'}       {'$'}        \n",
            "         A            {'b', '@', 'a'}   {'$', 'c', 'd', 'e'}\n",
            "         B            {'c', 'd', '@'}        {'$', 'e'}     \n",
            "         C               {'@', 'e'}            {'$'}        \n"
          ]
        }
      ],
      "source": [
        "FIRST = {}\n",
        "FOLLOW = {}\n",
        "\n",
        "for non_terminal in non_terminals:\n",
        "    FIRST[non_terminal] = set()\n",
        "\n",
        "for non_terminal in non_terminals:\n",
        "    FOLLOW[non_terminal] = set()\n",
        "\n",
        "\n",
        "for non_terminal in non_terminals:\n",
        "    FIRST[non_terminal] = FIRST[non_terminal] | first(non_terminal)\n",
        "\n",
        "FOLLOW[starting_symbol] = FOLLOW[starting_symbol] | {'$'}\n",
        "for non_terminal in non_terminals:\n",
        "    FOLLOW[non_terminal] = FOLLOW[non_terminal] | follow(non_terminal)\n",
        "    \n",
        "    print(\"{: ^20}{: ^20}{: ^20}\".format('Non Terminals','First','Follow'))\n",
        "for non_terminal in non_terminals:\n",
        "    print(\"{: ^20}{: ^20}{: ^20}\".format(non_terminal,str(FIRST[non_terminal]),str(FOLLOW[non_terminal])))"
      ]
    },
    {
      "cell_type": "code",
      "execution_count": null,
      "id": "f061d612",
      "metadata": {
        "id": "f061d612"
      },
      "outputs": [],
      "source": []
    },
    {
      "cell_type": "code",
      "execution_count": null,
      "id": "6e899867",
      "metadata": {
        "id": "6e899867"
      },
      "outputs": [],
      "source": []
    }
  ],
  "metadata": {
    "kernelspec": {
      "display_name": "Python 3",
      "language": "python",
      "name": "python3"
    },
    "language_info": {
      "codemirror_mode": {
        "name": "ipython",
        "version": 3
      },
      "file_extension": ".py",
      "mimetype": "text/x-python",
      "name": "python",
      "nbconvert_exporter": "python",
      "pygments_lexer": "ipython3",
      "version": "3.8.8"
    },
    "colab": {
      "name": "First_and_follow.ipynb",
      "provenance": []
    }
  },
  "nbformat": 4,
  "nbformat_minor": 5
}