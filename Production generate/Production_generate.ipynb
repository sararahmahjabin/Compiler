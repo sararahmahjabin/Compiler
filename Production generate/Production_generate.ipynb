{
  "nbformat": 4,
  "nbformat_minor": 0,
  "metadata": {
    "colab": {
      "name": "Production generate.ipynb",
      "provenance": []
    },
    "kernelspec": {
      "name": "python3",
      "display_name": "Python 3"
    },
    "language_info": {
      "name": "python"
    }
  },
  "cells": [
    {
      "cell_type": "code",
      "execution_count": null,
      "metadata": {
        "colab": {
          "base_uri": "https://localhost:8080/"
        },
        "id": "LGsld_ymAexB",
        "outputId": "92a53158-d52b-4c9a-89d2-fe20689676e5"
      },
      "outputs": [
        {
          "name": "stdout",
          "output_type": "stream",
          "text": [
            "Enter no. of terminals: 0\n",
            "Enter the terminals :\n",
            "Enter no. of non terminals: 3\n",
            "Enter the non terminals :\n",
            "E\n",
            "T\n",
            "R\n",
            "Enter the starting symbol: E\n",
            "Enter no of productions: 3\n",
            "Enter the productions:\n",
            "E->TR\n",
            "T->ER\n",
            "R->TE\n"
          ]
        }
      ],
      "source": [
        "no_of_terminals=int(input(\"Enter no. of terminals: \"))\n",
        "\n",
        "terminals = []\n",
        "\n",
        "print(\"Enter the terminals :\")\n",
        "for _ in range(no_of_terminals):\n",
        "    terminals.append(input())\n",
        "\n",
        "no_of_non_terminals=int(input(\"Enter no. of non terminals: \"))\n",
        "\n",
        "non_terminals = []\n",
        "\n",
        "print(\"Enter the non terminals :\")\n",
        "for _ in range(no_of_non_terminals):\n",
        "    non_terminals.append(input())\n",
        "\n",
        "starting_symbol = input(\"Enter the starting symbol: \")\n",
        "\n",
        "no_of_productions = int(input(\"Enter no of productions: \"))\n",
        "\n",
        "productions = []\n",
        "\n",
        "print(\"Enter the productions:\")\n",
        "for _ in range(no_of_productions):\n",
        "    productions.append(input())"
      ]
    },
    {
      "cell_type": "code",
      "source": [
        "productions_dict = {}\n",
        "for nT in non_terminals:\n",
        "    productions_dict[nT] = []\n",
        "\n",
        "\n",
        "for production in productions:\n",
        "    nonterm_to_prod = production.split(\"->\")\n",
        "    alternatives = nonterm_to_prod[1].split(\"/\")\n",
        "    for alternative in alternatives:\n",
        "        productions_dict[nonterm_to_prod[0]].append(alternative)\n",
        "        \n",
        "        \n",
        "productions_dict"
      ],
      "metadata": {
        "colab": {
          "base_uri": "https://localhost:8080/"
        },
        "id": "nga3kvUxAgXk",
        "outputId": "3093f8d4-f706-494b-c31e-3dfdce2ce8a6"
      },
      "execution_count": null,
      "outputs": [
        {
          "output_type": "execute_result",
          "data": {
            "text/plain": [
              "{'E': ['TR'], 'R': ['TE'], 'T': ['ER']}"
            ]
          },
          "metadata": {},
          "execution_count": 6
        }
      ]
    }
  ]
}