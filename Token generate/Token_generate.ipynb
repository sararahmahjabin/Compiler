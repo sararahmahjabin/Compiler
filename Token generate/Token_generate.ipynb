{
  "nbformat": 4,
  "nbformat_minor": 0,
  "metadata": {
    "colab": {
      "name": "Token generate.ipynb",
      "provenance": [],
      "collapsed_sections": []
    },
    "kernelspec": {
      "name": "python3",
      "display_name": "Python 3"
    },
    "language_info": {
      "name": "python"
    }
  },
  "cells": [
    {
      "cell_type": "code",
      "execution_count": null,
      "metadata": {
        "colab": {
          "base_uri": "https://localhost:8080/"
        },
        "id": "hYC99nzEkh7G",
        "outputId": "9c2e3997-cc3a-40b5-83fc-7e041364b77a"
      },
      "outputs": [
        {
          "name": "stdout",
          "output_type": "stream",
          "text": [
            "Enter a Code String: int a = ( a + b + 1000 ) ; # code\n"
          ]
        }
      ],
      "source": [
        "import re\n",
        "import nltk\n",
        "from collections import OrderedDict\n",
        "\n",
        "key = []\n",
        "key_count = 0\n",
        "ope = []\n",
        "ope_count = 0\n",
        "con = []\n",
        "con_count = 0\n",
        "iden = []\n",
        "iden_count = 0\n",
        "par = []\n",
        "par_count = 0\n",
        "pun = []\n",
        "pun_count = 0\n",
        "\n",
        "string = input(\"Enter a Code String: \")\n"
      ]
    },
    {
      "cell_type": "code",
      "source": [
        "token = nltk.wordpunct_tokenize(string)\n",
        "token"
      ],
      "metadata": {
        "colab": {
          "base_uri": "https://localhost:8080/"
        },
        "id": "x0XyqVQB1lUO",
        "outputId": "b1814234-424c-4e67-fd0a-b6f00c11c909"
      },
      "execution_count": null,
      "outputs": [
        {
          "output_type": "execute_result",
          "data": {
            "text/plain": [
              "['int', 'a', '=', '(', 'a', '+', 'b', '+', '1000', ')', ';', '#', 'code']"
            ]
          },
          "metadata": {},
          "execution_count": 26
        }
      ]
    },
    {
      "cell_type": "code",
      "source": [
        "token = list(OrderedDict.fromkeys(token))\n",
        "token"
      ],
      "metadata": {
        "colab": {
          "base_uri": "https://localhost:8080/"
        },
        "id": "TqA8yu2W1yM_",
        "outputId": "6269a3bd-a383-49ed-e259-8318d763a1da"
      },
      "execution_count": null,
      "outputs": [
        {
          "output_type": "execute_result",
          "data": {
            "text/plain": [
              "['int', 'a', '=', '(', '+', 'b', '1000', ')', ';', '#', 'code']"
            ]
          },
          "metadata": {},
          "execution_count": 27
        }
      ]
    },
    {
      "cell_type": "code",
      "source": [
        "try:\n",
        "   index = token.index('#') \n",
        "   token = token[0:index]\n",
        "except:\n",
        "   pass\n",
        "\n",
        "print(token)\n",
        "print(' '.join(token))"
      ],
      "metadata": {
        "colab": {
          "base_uri": "https://localhost:8080/"
        },
        "id": "0QvmK2yI2G-9",
        "outputId": "ce7deaf4-08a6-4397-fc1d-1a27ce03082e"
      },
      "execution_count": null,
      "outputs": [
        {
          "output_type": "stream",
          "name": "stdout",
          "text": [
            "['int', 'a', '=', '(', '+', 'b', '1000', ')', ';']\n",
            "int a = ( + b 1000 ) ;\n"
          ]
        }
      ]
    },
    {
      "cell_type": "code",
      "source": [
        "punctuation = \"(,)|(;)|(:)\"\n",
        "keyword = \"if|import|in|is|lambda|nonlocal|not|or|pass|raise|return|try|while|with|yield|False|None|True|and|as|assert|async|await|break|continue|def|del|elif|else|expect|finally|for|from|global\"\n",
        "operator = \"(\\++)|(-)|(=)|(\\*)|(%)|(--)|(<=)|(>=)|(/)|(&)|(!)\"\n",
        "constant = \"^(\\d+)$\"\n",
        "identifier = \"^[a-z|A-Z|_]+[a-z|A-Z|0-9|_]*\"\n",
        "\n",
        "for i in token:\n",
        "    if re.findall(keyword, i):\n",
        "        key.append(i)\n",
        "        key_count = key_count + 1\n",
        "    elif re.findall(operator, i):\n",
        "        ope.append(i)\n",
        "        ope_count = ope_count + 1\n",
        "    elif re.findall(constant, i):\n",
        "        con.append(i)\n",
        "        con_count = con_count + 1\n",
        "    elif re.findall(identifier, i):\n",
        "        iden.append(i)\n",
        "        iden_count = iden_count + 1\n",
        "    elif re.findall(punctuation, i):\n",
        "        pun.append(i)\n",
        "        pun_count = pun_count + 1\n",
        "    else:\n",
        "        par.append(i)\n",
        "        par_count = par_count + 1\n",
        "\n",
        "\n",
        "print(\"Keyword = \", key, \" & Total no of Keyword = \", key_count)\n",
        "print(\"Operator = \", ope, \" & Total no of Operator = \", ope_count)\n",
        "print(\"Constant = \", con, \" & Total no of Constant = \", con_count)\n",
        "print(\"Identifier = \", iden, \" & Total no of Identifier = \", iden_count)\n",
        "print(\"Punctuation = \", pun, \" & Total no of Punctuation = \", pun_count)\n",
        "print(\"Parentheses = \", par, \" & Total no of Parentheses= \", par_count)\n",
        "\n"
      ],
      "metadata": {
        "colab": {
          "base_uri": "https://localhost:8080/"
        },
        "id": "7OVG6c0b3yBC",
        "outputId": "439d8de8-a302-4e4d-c794-a09a23314a8e"
      },
      "execution_count": null,
      "outputs": [
        {
          "output_type": "stream",
          "name": "stdout",
          "text": [
            "Keyword =  ['int']  & Total no of Keyword =  1\n",
            "Operator =  ['=', '+']  & Total no of Operator =  2\n",
            "Constant =  ['1000']  & Total no of Constant =  1\n",
            "Identifier =  ['a', 'b']  & Total no of Identifier =  2\n",
            "Punctuation =  [';']  & Total no of Punctuation =  1\n",
            "Parentheses =  ['(', ')']  & Total no of Parentheses=  2\n"
          ]
        }
      ]
    }
  ]
}